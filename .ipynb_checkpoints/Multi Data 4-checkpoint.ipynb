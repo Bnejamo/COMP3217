{
 "cells": [
  {
   "cell_type": "code",
   "execution_count": 148,
   "id": "d3c5a922",
   "metadata": {},
   "outputs": [],
   "source": [
    "import pandas as pd\n",
    "import re\n",
    "from sklearn.model_selection import train_test_split, GridSearchCV\n",
    "from sklearn.pipeline import make_pipeline\n",
    "from sklearn.linear_model import LogisticRegression\n",
    "from sklearn.linear_model import SGDClassifier\n",
    "from sklearn.tree import DecisionTreeClassifier\n",
    "from sklearn.svm import SVC\n",
    "from sklearn.metrics import f1_score\n",
    "from sklearn.preprocessing import MinMaxScaler\n",
    "from sklearn.preprocessing import MaxAbsScaler\n",
    "from sklearn.preprocessing import StandardScaler\n",
    "from sklearn.model_selection import KFold\n",
    "from sklearn.ensemble import RandomForestClassifier\n",
    "from sklearn.ensemble import VotingClassifier\n",
    "from sklearn.ensemble import BaggingClassifier\n",
    "from sklearn.ensemble import AdaBoostClassifier\n",
    "import matplotlib.pyplot as plt\n",
    "from sklearn import metrics\n",
    "from sklearn.decomposition import PCA\n",
    "\n",
    "\n",
    "\n",
    "\n"
   ]
  },
  {
   "cell_type": "code",
   "execution_count": 149,
   "id": "2aa85742",
   "metadata": {},
   "outputs": [],
   "source": [
    "from warnings import simplefilter\n",
    "\n",
    "# ignore all warnings\n",
    "simplefilter(action='ignore')"
   ]
  },
  {
   "cell_type": "code",
   "execution_count": 150,
   "id": "2811f098",
   "metadata": {},
   "outputs": [],
   "source": [
    "trainData = pd.read_csv(\"TrainingDataMulti.csv\", sep=\",\",header=None)\n",
    "testData = pd.read_csv(\"TestingDataMulti.csv\", sep=\",\",header=None)"
   ]
  },
  {
   "cell_type": "code",
   "execution_count": 151,
   "id": "94d76668",
   "metadata": {},
   "outputs": [],
   "source": [
    "df_train = pd.DataFrame(data = trainData)\n",
    "df_test = pd.DataFrame(data = testData)"
   ]
  },
  {
   "cell_type": "code",
   "execution_count": 152,
   "id": "e6e99196",
   "metadata": {},
   "outputs": [
    {
     "data": {
      "text/plain": [
       "(4800, 128)"
      ]
     },
     "execution_count": 152,
     "metadata": {},
     "output_type": "execute_result"
    }
   ],
   "source": [
    "X_train, X_test, y_train, y_test = train_test_split(df_train.iloc[:,:-1],df_train.iloc[:,-1], test_size=0.2, random_state=42\n",
    ")\n",
    "X_train.shape\n"
   ]
  },
  {
   "cell_type": "code",
   "execution_count": 153,
   "id": "df264fa0",
   "metadata": {},
   "outputs": [
    {
     "name": "stdout",
     "output_type": "stream",
     "text": [
      "Test set accuracy: 0.95\n"
     ]
    }
   ],
   "source": [
    "pipe =  RandomForestClassifier()\n",
    "pipe.fit(X_train, y_train)\n",
    "\n",
    "\n",
    "# Finally, we can evaluate the model's performance on the test set\n",
    "SVM_accuracy = pipe.score(X_test, y_test)\n",
    "print(\"Test set accuracy: {:.2f}\".format(SVM_accuracy)) "
   ]
  },
  {
   "cell_type": "code",
   "execution_count": 154,
   "id": "29818576",
   "metadata": {},
   "outputs": [],
   "source": [
    "scaler = StandardScaler()\n",
    "X_TrainScaled= scaler.fit_transform(X_train)\n",
    "X_TestScaled= scaler.transform(X_test)\n"
   ]
  },
  {
   "cell_type": "code",
   "execution_count": 155,
   "id": "a3250028",
   "metadata": {},
   "outputs": [
    {
     "data": {
      "text/plain": [
       "(4800, 2)"
      ]
     },
     "execution_count": 155,
     "metadata": {},
     "output_type": "execute_result"
    }
   ],
   "source": [
    "pca = PCA(n_components=2)  # You can change the number of components here\n",
    "\n",
    "X_TrainPCA= pca.fit_transform(X_TrainScaled)\n",
    "X_TestPCA= pca.transform(X_TestScaled)\n",
    "\n",
    "X_TrainPCA.shape"
   ]
  },
  {
   "cell_type": "code",
   "execution_count": 156,
   "id": "8d80efcb",
   "metadata": {},
   "outputs": [
    {
     "name": "stdout",
     "output_type": "stream",
     "text": [
      "Test set accuracy: 0.79\n"
     ]
    }
   ],
   "source": [
    "pipe =  RandomForestClassifier()\n",
    "pipe.fit(X_TrainPCA, y_train)\n",
    "\n",
    "\n",
    "# Finally, we can evaluate the model's performance on the test set\n",
    "SVM_accuracy = pipe.score(X_TestPCA, y_test)\n",
    "print(\"Test set accuracy: {:.2f}\".format(SVM_accuracy)) "
   ]
  },
  {
   "cell_type": "code",
   "execution_count": 157,
   "id": "6baa5cc3",
   "metadata": {},
   "outputs": [],
   "source": [
    "X_train=df_train.iloc[:,:-1]\n",
    "y_train=df_train.iloc[:,-1]\n",
    "X_test=pd.DataFrame(data = testData)"
   ]
  },
  {
   "cell_type": "code",
   "execution_count": 158,
   "id": "4c13a54b",
   "metadata": {},
   "outputs": [],
   "source": [
    "scaler = StandardScaler()\n",
    "X_TrainScaled= scaler.fit_transform(X_train)\n",
    "X_TestScaled= scaler.transform(X_test)"
   ]
  },
  {
   "cell_type": "code",
   "execution_count": 159,
   "id": "3e4af6fe",
   "metadata": {},
   "outputs": [
    {
     "data": {
      "text/plain": [
       "(6000, 2)"
      ]
     },
     "execution_count": 159,
     "metadata": {},
     "output_type": "execute_result"
    }
   ],
   "source": [
    "pca = PCA(n_components=2)  # You can change the number of components here\n",
    "\n",
    "X_TrainPCA= pca.fit_transform(X_TrainScaled)\n",
    "X_TestPCA= pca.transform(X_TestScaled)\n",
    "\n",
    "X_TrainPCA.shape"
   ]
  },
  {
   "cell_type": "code",
   "execution_count": 160,
   "id": "1dae7c7a",
   "metadata": {},
   "outputs": [
    {
     "name": "stdout",
     "output_type": "stream",
     "text": [
      "1.0\n"
     ]
    }
   ],
   "source": [
    "rfc = RandomForestClassifier()\n",
    "rfc.fit(X_TrainPCA, y_train)\n",
    "print(rfc.score(X_TrainPCA,y_train))"
   ]
  },
  {
   "cell_type": "code",
   "execution_count": 161,
   "id": "06e41968",
   "metadata": {},
   "outputs": [],
   "source": [
    "preds = rfc.predict(X_TestPCA)"
   ]
  },
  {
   "cell_type": "code",
   "execution_count": 162,
   "id": "ecc2c5cc",
   "metadata": {},
   "outputs": [
    {
     "data": {
      "text/plain": [
       "array([2, 1, 1, 2, 2, 1, 0, 0, 0, 0, 0, 1, 1, 1, 1, 1, 2, 1, 2, 0, 0, 1,\n",
       "       2, 2, 2, 2, 2, 2, 2, 2, 0, 0, 2, 1, 1, 1, 1, 1, 2, 0, 0, 0, 2, 0,\n",
       "       1, 2, 1, 2, 0, 1, 2, 1, 1, 2, 0, 2, 2, 0, 1, 0, 1, 1, 1, 1, 1, 1,\n",
       "       0, 0, 0, 0, 0, 0, 0, 0, 1, 2, 1, 1, 1, 0, 0, 1, 2, 0, 2, 2, 1, 2,\n",
       "       2, 2, 2, 0, 0, 0, 0, 0, 0, 0, 0, 0])"
      ]
     },
     "execution_count": 162,
     "metadata": {},
     "output_type": "execute_result"
    }
   ],
   "source": [
    "preds"
   ]
  },
  {
   "cell_type": "code",
   "execution_count": 163,
   "id": "7e614a57",
   "metadata": {},
   "outputs": [],
   "source": [
    "pps = rfc.predict_proba(X_TestPCA)"
   ]
  },
  {
   "cell_type": "code",
   "execution_count": 164,
   "id": "ee1fd900",
   "metadata": {},
   "outputs": [
    {
     "name": "stdout",
     "output_type": "stream",
     "text": [
      "[0.76, 0.58, 0.57, 0.62, 0.61, 0.54, 0.81, 0.81, 0.85, 0.85, 0.59, 0.99, 0.97, 0.96, 0.97, 0.97, 0.9, 0.49, 0.8, 0.77, 0.75, 0.65, 0.98, 0.96, 0.96, 0.97, 0.85, 0.91, 0.91, 0.66, 0.57, 0.56, 0.55, 1.0, 1.0, 1.0, 0.95, 0.95, 0.78, 0.87, 0.85, 0.71, 0.55, 0.94, 0.64, 0.6, 0.56, 0.56, 0.5, 0.47, 0.4, 0.65, 0.57, 0.83, 0.63, 0.67, 0.61, 0.94, 0.93, 0.73, 0.51, 0.42, 0.42, 0.42, 0.5, 0.5, 0.9, 0.64, 0.74, 0.94, 0.99, 0.54, 0.39, 0.47, 0.47, 0.51, 0.72, 0.71, 0.59, 0.37, 0.36, 0.41, 0.68, 0.73, 0.94, 0.93, 0.69, 0.76, 0.83, 0.51, 0.55, 0.73, 0.62, 0.61, 0.71, 0.82, 0.66, 0.56, 0.62, 0.6]\n",
      "average confindence 0.7064999999999998\n"
     ]
    }
   ],
   "source": [
    "con = []\n",
    "for y in pps:\n",
    "    con.append(max(y))\n",
    "avgCon = sum(con) / len(con)\n",
    "print(con,sep=' ')\n",
    "print(\"average confindence\",avgCon)"
   ]
  },
  {
   "cell_type": "code",
   "execution_count": null,
   "id": "9aeef864",
   "metadata": {},
   "outputs": [],
   "source": []
  },
  {
   "cell_type": "code",
   "execution_count": null,
   "id": "b5f2feb4",
   "metadata": {},
   "outputs": [],
   "source": []
  }
 ],
 "metadata": {
  "kernelspec": {
   "display_name": "Python 3 (ipykernel)",
   "language": "python",
   "name": "python3"
  },
  "language_info": {
   "codemirror_mode": {
    "name": "ipython",
    "version": 3
   },
   "file_extension": ".py",
   "mimetype": "text/x-python",
   "name": "python",
   "nbconvert_exporter": "python",
   "pygments_lexer": "ipython3",
   "version": "3.10.8"
  }
 },
 "nbformat": 4,
 "nbformat_minor": 5
}
